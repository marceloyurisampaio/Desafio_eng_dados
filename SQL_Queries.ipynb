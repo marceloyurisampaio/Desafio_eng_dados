{
  "cells": [
    {
      "cell_type": "markdown",
      "metadata": {
        "id": "axDcP4KnYuSM"
      },
      "source": [
        "# Inicialização do DataFrame"
      ]
    },
    {
      "cell_type": "code",
      "execution_count": null,
      "metadata": {
        "id": "DFVs7NJMZBDV"
      },
      "outputs": [],
      "source": [
        "#Transformando o DataFrames em uma tabela temporária de consultas\n",
        "df_movies.createOrReplaceTempView(\"movies\")"
      ]
    },
    {
      "cell_type": "markdown",
      "metadata": {
        "id": "g-Mt8fpCYBVs"
      },
      "source": [
        "# Comando SQL para respostas da perguntas de negócio"
      ]
    },
    {
      "cell_type": "markdown",
      "metadata": {
        "id": "bcW9MhG2YOBG"
      },
      "source": [
        "## Quantos filmes estão disponíveis na Amazon? E na Netflix?"
      ]
    },
    {
      "cell_type": "code",
      "execution_count": null,
      "metadata": {
        "id": "zQp1DNfAYVwZ"
      },
      "outputs": [],
      "source": [
        "#Amazon\n",
        "qtd_filmes_amazon = spark.sql(\"SELECT count(DISTINCT title) as qtd_filmes_amazon\\\n",
        "                               FROM movies\\\n",
        "                               WHERE company == 'amazon'\")\n",
        "qtd_filmes_amazon.show()\n",
        "#Resposta obtida: 328.205"
      ]
    },
    {
      "cell_type": "code",
      "execution_count": null,
      "metadata": {
        "id": "gGkvpTg5ZiE-"
      },
      "outputs": [],
      "source": [
        "#Netflix\n",
        "qtd_filmes_netflix = spark.sql(\"SELECT count(DISTINCT title) as qtd_filmes_netflix\\\n",
        "                                FROM movies\\\n",
        "                                WHERE company == 'netflix'\")\n",
        "qtd_filmes_netflix.show()\n",
        "#Resposta obtida: 17.240"
      ]
    },
    {
      "cell_type": "markdown",
      "metadata": {
        "id": "IhlDnmT5aae9"
      },
      "source": [
        "## Dos filmes disponíveis na Amazon, quantos % estão disponíveis na Netflix?"
      ]
    },
    {
      "cell_type": "code",
      "execution_count": null,
      "metadata": {
        "id": "2SdeSN19adqK"
      },
      "outputs": [],
      "source": [
        "#Esse desafio de negócios tentei resolver de duas formas diferentes, vou explicitar as duas para mostrar meu raciocínio.\n",
        "#Na primeira abaixo o resultado obtido foi nulo, então para resolver o problema trago a segunda opção logo em seguida\n",
        "\n",
        "porcen_filmes_amazon_and_netflix = spark.sql(\"SELECT CAST((SELECT COUNT(*)\\\n",
        "\t                                                         FROM (SELECT * FROM movies WHERE company == 'amazon') a \\\n",
        "\t                                                         INNER JOIN (SELECT * FROM movies WHERE company == 'netflix') n \\\n",
        "\t                                                         ON a.title = n.title) AS DECIMAL(4, 2)) / \\\n",
        "                                                     CAST(COUNT(*) AS DECIMAL(4, 2))\\\n",
        "                                              AS porcen_filmes_amazon_e_netflix \\\n",
        "                                              FROM movies \\\n",
        "                                              WHERE company == 'amazon'\")\n",
        "porcen_filmes_amazon_and_netflix.show()\n",
        "#Resposta obtida: Null"
      ]
    },
    {
      "cell_type": "code",
      "execution_count": null,
      "metadata": {
        "id": "UkmAjapS0gdk"
      },
      "outputs": [],
      "source": [
        "#Método funcional para determinação da porcentagem\n",
        "#Calculando a quantidade de filmes que estão em ambas as plataformas\n",
        "qtd_filmes_amazon_and_netflix = spark.sql(\"SELECT COUNT(a.title)\\\n",
        "\t                                         FROM (SELECT DISTINCT title FROM movies WHERE company == 'amazon') a \\\n",
        "\t                                         INNER JOIN (SELECT DISTINCT title FROM movies WHERE company == 'netflix') n \\\n",
        "\t                                         ON a.title = n.title)\")\n",
        "qtd_filmes_amazon_and_netflix = qtd_filmes_amazon_and_netflix.collect()[0][0]\n",
        "\n",
        "#Calculando a quantidade de filmes da Amazon\n",
        "qtd_filmes_amazon = spark.sql(\"SELECT count(DISTINCT title) as qtd_filmes_amazon\\\n",
        "                               FROM movies\\\n",
        "                               WHERE company == 'amazon'\")\n",
        "qtd_filmes_amazon = qtd_filmes_amazon.collect()[0][0]\n",
        "\n",
        "percent_amazon_and_netflix = (qtd_filmes_amazon_and_netflix / qtd_filmes_amazon)*100\n",
        "print(percent_amazon_and_netflix)\n",
        "\n",
        "#Resposta obtida: 4,2677%"
      ]
    },
    {
      "cell_type": "markdown",
      "metadata": {
        "id": "Gww_OwSjamEm"
      },
      "source": [
        "## O quão perto a média das notas dos filmes disponíveis na Amazon está dos filmes disponíveis na Netflix?"
      ]
    },
    {
      "cell_type": "code",
      "execution_count": null,
      "metadata": {
        "id": "tJS5k9RFap2H"
      },
      "outputs": [],
      "source": [
        "#Proximidade das médias de notas\n",
        "prox_rating_filmes_amazon_and_netflix = spark.sql(\"SELECT CAST(\\\n",
        "                                                          ((SELECT AVG(rating)\\\n",
        "                                                            FROM movies\\\n",
        "                                                            WHERE company == 'amazon') - \\\n",
        "                                                           (SELECT AVG(rating) \\\n",
        "                                                            FROM movies \\\n",
        "                                                            WHERE company == 'netflix')) \\\n",
        "                                                          AS DECIMAL(4, 2) \\\n",
        "                                                  ) AS prox_rating_filmes_amazon_and_netflix \\\n",
        "                                                  FROM movies \\\n",
        "                                                  LIMIT 1\")\n",
        "prox_rating_filmes_amazon_and_netflix.show()\n",
        "#Resposta obtida:0,65"
      ]
    },
    {
      "cell_type": "markdown",
      "metadata": {
        "id": "f9dmxyJQc6cv"
      },
      "source": [
        "## Qual ano de lançamento possui mais filmes na Netflix?"
      ]
    },
    {
      "cell_type": "code",
      "execution_count": null,
      "metadata": {
        "id": "EN4G3HvAfBB-"
      },
      "outputs": [],
      "source": [
        "#Ano de lançamento com mais filmes\n",
        "year_max_release = spark.sql(\"SELECT year_release, count(title) as year_max_release\\\n",
        "                              FROM movies\\\n",
        "                              WHERE company == 'netflix'\\\n",
        "                              GROUP BY year_release\\\n",
        "                              ORDER BY count(title) DESC LIMIT 1\")\n",
        "year_max_release.show()\n",
        "#Resposta obtida:2004 com 1435 lançados"
      ]
    },
    {
      "cell_type": "markdown",
      "metadata": {
        "id": "Qu1AhtZ5fdLI"
      },
      "source": [
        "## Quais filmes que não estão disponíveis no catálogo da Amazon foram *melhor avaliados? *Melhores notas são as 4 e 5"
      ]
    },
    {
      "cell_type": "code",
      "execution_count": null,
      "metadata": {
        "id": "pYx22hzRfgVA"
      },
      "outputs": [],
      "source": [
        "#Filmes melhor avaliados não disponíveis na Amazon\n",
        "movies_netflix_not_amazon = spark.sql(\"SELECT DISTINCT n.title, n.rating\\\n",
        "                                       FROM (SELECT DISTINCT title, rating, company FROM movies WHERE company == 'netflix') n\\\n",
        "                                       LEFT JOIN (SELECT title, rating, company FROM movies WHERE company == 'amazon') a\\\n",
        "                                       ON n.title = a.title\\\n",
        "                                       WHERE a.title IS NULL AND n.rating >= 4\\\n",
        "                                       ORDER BY n.rating DESC\")\n",
        "\n",
        "movies_netflix_not_amazon.show(truncate=False)\n",
        "#Resposta obtida:São 3233 títulos"
      ]
    },
    {
      "cell_type": "markdown",
      "metadata": {
        "id": "bpOwjmOekSax"
      },
      "source": [
        "## Quais filmes que não estão disponíveis no catálogo da Netflix foram *melhor avaliados? *Melhores notas são as 4 e 5"
      ]
    },
    {
      "cell_type": "code",
      "execution_count": null,
      "metadata": {
        "id": "0CetRx7SkX8q"
      },
      "outputs": [],
      "source": [
        "#Filmes melhor avaliados não disponíveis na Netflix\n",
        "movies_amazon_not_netflix = spark.sql(\"SELECT a.title, AVG(a.rating)\\\n",
        "                                       FROM (SELECT title, rating, company FROM movies WHERE company == 'amazon') a\\\n",
        "                                       LEFT JOIN (SELECT DISTINCT title, rating, company FROM movies WHERE company == 'netflix') n\\\n",
        "                                       ON a.title = n.title\\\n",
        "                                       WHERE n.title IS NULL and a.rating >= 4\\\n",
        "                                       GROUP BY a.title\\\n",
        "                                       ORDER BY AVG(a.rating) DESC\")\n",
        "movies_amazon_not_netflix.show(truncate=False)\n",
        "#Resposta obtida: 277.443"
      ]
    },
    {
      "cell_type": "markdown",
      "metadata": {
        "id": "RDhcg1N9kxio"
      },
      "source": [
        "## Quais os 10 filmes que possuem mais avaliações nas plataformas?"
      ]
    },
    {
      "cell_type": "code",
      "execution_count": null,
      "metadata": {
        "id": "VCOCBNi1k0lL"
      },
      "outputs": [],
      "source": [
        "#Amazon\n",
        "top_10_movies_amazon = spark.sql(\"SELECT title, count(title) as top10_movies_amazon\\\n",
        "                                  FROM movies\\\n",
        "                                  WHERE company == 'amazon'\\\n",
        "                                  GROUP BY title\\\n",
        "                                  ORDER BY count(title) DESC LIMIT 10\")\n",
        "top_10_movies_amazon.show(truncate=False)\n",
        "#Resposta obtida:\n",
        "'''\n",
        "+----------------+-------------------+\n",
        "|           title|top10_movies_amazon|\n",
        "+----------------+-------------------+\n",
        "|           pilot|              58965|\n",
        "|         bosch 1|              54216|\n",
        "| downton abbey 1|              23811|\n",
        "| downton abbey 3|              23785|\n",
        "|   transparent 1|              21340|\n",
        "|     justified 1|              18859|\n",
        "|          frozen|              16404|\n",
        "|under the dome 1|              15734|\n",
        "| downton abbey 4|              15302|\n",
        "| downton abbey 2|              14215|\n",
        "+----------------+-------------------+\n",
        "'''"
      ]
    },
    {
      "cell_type": "code",
      "execution_count": null,
      "metadata": {
        "id": "BdWsz8jOlQUY"
      },
      "outputs": [],
      "source": [
        "#Netflix\n",
        "top_10_movies_netflix = spark.sql(\"SELECT title, count(title) as top10_movies_netflix\\\n",
        "                                   FROM movies\\\n",
        "                                   WHERE company == 'netflix'\\\n",
        "                                   GROUP BY title\\\n",
        "                                   ORDER BY count(title) DESC LIMIT 10\")\n",
        "top_10_movies_netflix.show(truncate=False)\n",
        "#Resposta obtida:\n",
        "'''\n",
        "+--------------------+--------------------+\n",
        "|               title|top10_movies_netflix|\n",
        "+--------------------+--------------------+\n",
        "|   miss congeniality|              232944|\n",
        "|    independence day|              216596|\n",
        "|         the patriot|              211764|\n",
        "|       the godfather|              206551|\n",
        "|the day after tom...|              196397|\n",
        "|pirates of the ca...|              193941|\n",
        "|        pretty woman|              193295|\n",
        "|             twister|              187808|\n",
        "|  gone in 60 seconds|              183590|\n",
        "|        forrest gump|              181508|\n",
        "+--------------------+--------------------+\n",
        "'''\n"
      ]
    },
    {
      "cell_type": "markdown",
      "metadata": {
        "id": "PBdycNN9lacm"
      },
      "source": [
        "## Quais são os 5 clientes que mais avaliaram filmes na Amazon e quantos produtos diferentes eles avaliaram? E na Netflix?"
      ]
    },
    {
      "cell_type": "code",
      "execution_count": null,
      "metadata": {
        "id": "ZIf4VS54leKM"
      },
      "outputs": [],
      "source": [
        "#Amazon\n",
        "top_5_customers_amazon = spark.sql(\"SELECT customer_id, count(DISTINCT title) as top_5_customers_amazon\\\n",
        "                                    FROM movies\\\n",
        "                                    WHERE company == 'amazon'\\\n",
        "                                    GROUP BY customer_id\\\n",
        "                                    ORDER BY count(title) DESC LIMIT 5\")\n",
        "top_5_customers_amazon.show()\n",
        "#Resposta obtida:\n",
        "'''\n",
        "+-----------+----------------------+\n",
        "|customer_id|top_5_customers_amazon|\n",
        "+-----------+----------------------+\n",
        "|   43430756|                  6381|\n",
        "|   18116317|                  3992|\n",
        "|   52287429|                  2978|\n",
        "|   52496677|                  2895|\n",
        "|   20018062|                  2786|\n",
        "+-----------+----------------------+\n",
        "'''"
      ]
    },
    {
      "cell_type": "code",
      "execution_count": null,
      "metadata": {
        "id": "ACuLx6jPlpRc"
      },
      "outputs": [],
      "source": [
        "#Netflix\n",
        "top_5_customers_netflix = spark.sql(\"SELECT customer_id, count(DISTINCT title) as top_5_customers_netflix\\\n",
        "                                     FROM movies\\\n",
        "                                     WHERE company == 'netflix'\\\n",
        "                                     GROUP BY customer_id\\\n",
        "                                     ORDER BY count(title) DESC LIMIT 5\")\n",
        "top_5_customers_netflix.show()\n",
        "#Resposta obtida:\n",
        "'''\n",
        "+-----------+-----------------------+\n",
        "|customer_id|top_5_customers_netflix|\n",
        "+-----------+-----------------------+\n",
        "|     305344|                  17129|\n",
        "|     387418|                  16919|\n",
        "|    2439493|                  16087|\n",
        "|    1664010|                  15380|\n",
        "|    2118461|                  14404|\n",
        "+-----------+-----------------------+\n",
        "''"
      ]
    },
    {
      "cell_type": "markdown",
      "metadata": {
        "id": "VrRt2oC8lyQq"
      },
      "source": [
        "## Quantos filmes foram avaliados na data de avaliação mais recente na Amazon?"
      ]
    },
    {
      "cell_type": "code",
      "execution_count": null,
      "metadata": {
        "id": "CHe38dzKl2RQ"
      },
      "outputs": [],
      "source": [
        "#Amazon\n",
        "qtd_movies_recent_rating_amazon = spark.sql(\"SELECT count(DISTINCT title) as qtd_best_rating_amazon\\\n",
        "                                           FROM movies\\\n",
        "                                           WHERE review_date = (SELECT MAX(review_date) FROM movies) and company == 'amazon'\")\n",
        "qtd_movies_recent_rating_amazon.show()\n",
        "#Resposta obtida: 17.613"
      ]
    },
    {
      "cell_type": "markdown",
      "metadata": {
        "id": "4KhYAhPWn-io"
      },
      "source": [
        "## Quais os 10 filmes mais bem avaliados nesta data?"
      ]
    },
    {
      "cell_type": "code",
      "execution_count": null,
      "metadata": {
        "id": "JTC9cG-XoBaZ"
      },
      "outputs": [],
      "source": [
        "top_10_movies_recent_rating_amazon = spark.sql(\"SELECT DISTINCT title, rating\\\n",
        "                                              FROM movies\\\n",
        "                                              WHERE review_date = (SELECT MAX(review_date) FROM movies) and company == 'amazon'\\\n",
        "                                              ORDER BY rating DESC LIMIT 10\")\n",
        "top_10_movies_recent_rating_amazon.show()\n",
        "#Resposta obtida:\n",
        "'''\n",
        "+------------------+--------------------------------+\n",
        "|title             |top_10_movies_best_rating_amazon|\n",
        "+------------------+--------------------------------+\n",
        "|digging for fire  |5                               |\n",
        "|mad dogs 1        |5                               |\n",
        "|hotel transylvania|5                               |\n",
        "|downton abbey 3   |5                               |\n",
        "|the good wife 3   |5                               |\n",
        "|immortals         |5                               |\n",
        "|shaun the sheep 4 |5                               |\n",
        "|grantchester 1    |5                               |\n",
        "|the switch        |5                               |\n",
        "|cloud atlas       |5                               |\n",
        "+------------------+--------------------------------+\n",
        "'''"
      ]
    },
    {
      "cell_type": "markdown",
      "metadata": {
        "id": "3myjQPCWoDmC"
      },
      "source": [
        "## Quantos filmes foram avaliados na data de avaliação mais recente na Netflix?"
      ]
    },
    {
      "cell_type": "code",
      "execution_count": null,
      "metadata": {
        "id": "aeMpjO_1nBjm"
      },
      "outputs": [],
      "source": [
        "#Netflix\n",
        "qtd_movies_recent_rating_netflix = spark.sql(\"SELECT count(DISTINCT title) as qtd_best_rating_netflix\\\n",
        "                                            FROM movies\\\n",
        "                                            WHERE review_date = (SELECT MAX(review_date) FROM movies) and company == 'netflix'\")\n",
        "qtd_movies_recent_rating_netflix.show()\n",
        "#Resposta obtida:6838"
      ]
    },
    {
      "cell_type": "markdown",
      "metadata": {
        "id": "E53fTv-CoFi3"
      },
      "source": [
        "## Quais os 10 filmes mais bem avaliados nesta data?"
      ]
    },
    {
      "cell_type": "code",
      "execution_count": null,
      "metadata": {
        "id": "0jxA9n-LoH4S"
      },
      "outputs": [],
      "source": [
        "top_10_movies_best_rating_netflix = spark.sql(\"SELECT DISTINCT title, rating\\\n",
        "                                               FROM movies\\\n",
        "                                               WHERE review_date = (SELECT MAX(review_date) FROM movies) and company == 'netflix'\\\n",
        "                                               ORDER BY rating DESC LIMIT 10\")\n",
        "top_10_movies_best_rating_netflix.show(truncate=False)\n",
        "#Resposta obtida:\n",
        "'''\n",
        "+------------------------------+------+\n",
        "|title                         |rating|\n",
        "+------------------------------+------+\n",
        "|the alamo                     |5     |\n",
        "|ikiru                         |5     |\n",
        "|the twilight zone vol 39      |5     |\n",
        "|tom and jerrys greatest chases|5     |\n",
        "|20                            |5     |\n",
        "|friends 1                     |5     |\n",
        "|strictly ballroom             |5     |\n",
        "|finding neverland             |5     |\n",
        "|the green mile                |5     |\n",
        "|the man with the golden gun   |5     |\n",
        "+------------------------------+------+\n",
        "'''"
      ]
    }
  ],
  "metadata": {
    "colab": {
      "provenance": []
    },
    "kernelspec": {
      "display_name": "Python 3",
      "name": "python3"
    },
    "language_info": {
      "name": "python"
    }
  },
  "nbformat": 4,
  "nbformat_minor": 0
}
